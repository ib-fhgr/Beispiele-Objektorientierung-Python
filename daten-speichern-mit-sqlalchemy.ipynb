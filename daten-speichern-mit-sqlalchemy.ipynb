{
 "cells": [
  {
   "cell_type": "code",
   "execution_count": null,
   "metadata": {},
   "outputs": [],
   "source": [
    "# Beispiel: Objektorientierter Zugriff auf Datenbanken mit SQLAlchemy\n",
    "from sqlalchemy import create_engine\n",
    "from sqlalchemy.orm import declarative_base\n",
    "from sqlalchemy import Column, Integer, String, Float\n",
    "\n",
    "# Datenbank-Verbindung herstellen\n",
    "engine = create_engine('sqlite:///example.db', echo=True)\n",
    "\n",
    "# Basisklasse für die Datenklassen\n",
    "Base = declarative_base()"
   ]
  },
  {
   "cell_type": "code",
   "execution_count": null,
   "metadata": {},
   "outputs": [],
   "source": [
    "# Datenklasse für die Tabelle 'products' - Beschreibung der Tabelle\n",
    "class Product(Base):\n",
    "    # Tabellenname\n",
    "    __tablename__ = 'products'\n",
    "\n",
    "    # Spalten der Tabelle\n",
    "    id = Column(Integer, primary_key=True)\n",
    "    name = Column(String)\n",
    "    price = Column(Float)\n",
    "\n",
    "    # Hilfsfunktion für die Ausgabe\n",
    "    def __repr__(self):\n",
    "        return \"<Product(name='%s', price='%s')>\" % (self.name, self.price)"
   ]
  },
  {
   "cell_type": "code",
   "execution_count": null,
   "metadata": {},
   "outputs": [],
   "source": [
    "# Erzeugen der Tabelle, falls sie noch nicht existiert\n",
    "Base.metadata.create_all(engine)"
   ]
  },
  {
   "cell_type": "code",
   "execution_count": null,
   "metadata": {},
   "outputs": [],
   "source": [
    "# Zum Arbeit mit der Datenbank wird eine Session benötigt\n",
    "from sqlalchemy.orm import sessionmaker\n",
    "Session = sessionmaker(bind=engine)\n",
    "session = Session()"
   ]
  },
  {
   "cell_type": "code",
   "execution_count": null,
   "metadata": {},
   "outputs": [],
   "source": [
    "# Beispieldaten einfügen\n",
    "session.add_all([\n",
    "    Product(name='Apple', price=1.99),\n",
    "    Product(name='Banana', price=0.99),\n",
    "    Product(name='Orange', price=1.49),\n",
    "    Product(name='Pineapple', price=2.99),\n",
    "    Product(name='Pear', price=1.99)\n",
    "])\n",
    "\n",
    "# beim Einfügen oder Ändern von Daten muss commit aufgerufen werden\n",
    "session.commit()"
   ]
  },
  {
   "cell_type": "code",
   "execution_count": null,
   "metadata": {},
   "outputs": [],
   "source": [
    "# Alle Zeilen einer Tabelle ausgeben\n",
    "for product in session.query(Product).order_by(Product.id):\n",
    "    print(product.name, product.price)"
   ]
  },
  {
   "cell_type": "code",
   "execution_count": null,
   "metadata": {},
   "outputs": [],
   "source": [
    "# Produkt per ID holen\n",
    "id = 5\n",
    "print(\"Produkt mit id = 5\")\n",
    "print(session.query(Product).filter(Product.id == id).first())"
   ]
  },
  {
   "cell_type": "code",
   "execution_count": null,
   "metadata": {},
   "outputs": [],
   "source": [
    "# einzelnes Produkt ändern\n",
    "id = 5\n",
    "new_price = 2.99\n",
    "session.query(Product).filter(Product.id == id).update({\"price\": new_price})\n",
    "session.commit()"
   ]
  },
  {
   "cell_type": "code",
   "execution_count": null,
   "metadata": {},
   "outputs": [],
   "source": [
    "# Alle Produkte mit einem Preis zwischen 2.00 und 3.00 holen und ausgeben\n",
    "low = 2.00\n",
    "high = 3.00\n",
    "print(\"Alle Produkte zwischen 2.00 und 3.00\")\n",
    "for product in session.query(Product).filter(Product.price >= low).filter(Product.price <= high):\n",
    "    print(product.name, product.price)\n"
   ]
  },
  {
   "cell_type": "code",
   "execution_count": null,
   "metadata": {},
   "outputs": [],
   "source": [
    "# alle Produkte löschen\n",
    "session.query(Product).delete()\n",
    "session.commit()"
   ]
  },
  {
   "cell_type": "code",
   "execution_count": null,
   "metadata": {},
   "outputs": [],
   "source": [
    "# Session beenden\n",
    "session.close()"
   ]
  }
 ],
 "metadata": {
  "kernelspec": {
   "display_name": "base",
   "language": "python",
   "name": "python3"
  },
  "language_info": {
   "codemirror_mode": {
    "name": "ipython",
    "version": 3
   },
   "file_extension": ".py",
   "mimetype": "text/x-python",
   "name": "python",
   "nbconvert_exporter": "python",
   "pygments_lexer": "ipython3",
   "version": "3.9.16"
  }
 },
 "nbformat": 4,
 "nbformat_minor": 2
}
