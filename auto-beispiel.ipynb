{
 "cells": [
  {
   "cell_type": "code",
   "execution_count": null,
   "metadata": {},
   "outputs": [],
   "source": [
    "# eine Klasse für ein Auto\n",
    "class Auto:\n",
    "  # der \"Konstruktor\"\n",
    "  def __init__(self, geschwindigkeit): \n",
    "    # hier wird ein Attribut gesetzt\n",
    "    self.geschwindigkeit = geschwindigkeit \n",
    "\n",
    "  # Methoden (Fähigkeiten) der Objekte der Klasse Auto\n",
    "  def beschleunigen(self, wert):\n",
    "    self.geschwindigkeit += wert\n",
    "  \n",
    "  def bremsen(self, wert):\n",
    "    self.geschwindigkeit -= wert\n",
    "\n",
    "  def anhalten(self):\n",
    "    self.geschwindigkeit = 0"
   ]
  },
  {
   "cell_type": "code",
   "execution_count": null,
   "metadata": {},
   "outputs": [],
   "source": [
    "# ein Objekt der Klasse Auto erzeugen\n",
    "auto = Auto(geschwindigkeit=0)\n",
    "\n",
    "# Beschleunigen um 60 km/h\n",
    "auto.beschleunigen(60)\n",
    "print(auto.geschwindigkeit) # 60\n",
    "\n",
    "# Beschleunigen um weitere 30 km/h\n",
    "auto.beschleunigen(30)\n",
    "print(auto.geschwindigkeit) # 90\n",
    "\n",
    "# Bremsen um 20 km/h\n",
    "auto.bremsen(20)\n",
    "print(auto.geschwindigkeit) # 70\n",
    "\n",
    "# Anhalten\n",
    "auto.anhalten()\n",
    "print(auto.geschwindigkeit) # 0"
   ]
  },
  {
   "cell_type": "code",
   "execution_count": null,
   "metadata": {},
   "outputs": [],
   "source": [
    "# mehrere Autos erzeugen\n",
    "auto1 = Auto(geschwindigkeit=0)\n",
    "auto2 = Auto(geschwindigkeit=70)\n",
    "\n",
    "auto1.beschleunigen(50)\n",
    "auto2.bremsen(30)\n",
    "\n",
    "print(auto1.geschwindigkeit) # 50\n",
    "print(auto2.geschwindigkeit) # 40"
   ]
  },
  {
   "cell_type": "code",
   "execution_count": null,
   "metadata": {},
   "outputs": [],
   "source": []
  }
 ],
 "metadata": {
  "kernelspec": {
   "display_name": "base",
   "language": "python",
   "name": "python3"
  },
  "language_info": {
   "codemirror_mode": {
    "name": "ipython",
    "version": 3
   },
   "file_extension": ".py",
   "mimetype": "text/x-python",
   "name": "python",
   "nbconvert_exporter": "python",
   "pygments_lexer": "ipython3",
   "version": "3.9.16"
  }
 },
 "nbformat": 4,
 "nbformat_minor": 2
}
